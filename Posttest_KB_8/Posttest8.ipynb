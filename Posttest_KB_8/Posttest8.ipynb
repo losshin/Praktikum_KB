{
 "cells": [
  {
   "cell_type": "markdown",
   "id": "0165fe0a-8fd6-4522-a459-5d4d5fe84324",
   "metadata": {},
   "source": [
    "# Deep Learning"
   ]
  },
  {
   "cell_type": "code",
   "execution_count": 158,
   "id": "560f99b6-4835-416d-9739-8df1151d8ff9",
   "metadata": {},
   "outputs": [],
   "source": [
    "import tensorflow as tf\n",
    "import matplotlib.pyplot as plt\n",
    "import numpy as np\n",
    "import os\n",
    "import cv2"
   ]
  },
  {
   "cell_type": "code",
   "execution_count": 159,
   "id": "88f76702-fa50-4d17-a6be-db7fada29924",
   "metadata": {},
   "outputs": [],
   "source": [
    "# import dataset\n",
    "df_img = \"https://github.com/losshin/Praktikum_KB/tree/main/Posttest_KB_8/tank"\n",
    "Categories = [\"m1a2_sep\", \"m60a3\"]\n",
    "\n",
    "# Image convert to array\n",
    "images = []\n",
    "for category in Categories:\n",
    "    path = os.path.join(df_img, category)\n",
    "    for i in path:\n",
    "        images.append(path)\n",
    "    \n",
    "    \n",
    "# # Training data    \n",
    "# Training = []\n",
    "\n",
    "# def training_data():\n",
    "#     for category in Categories:\n",
    "#         path = os.path.join(df_img, category)\n",
    "#         class_num = Categories.index(category)\n",
    "#         for img in os.listdir(path):\n",
    "#             try:\n",
    "#                 img_array = cv2.imread(os.path.join(path, img), cv2.IMREAD_GRAYSCALE)\n",
    "#                 new_array = cv2.resize(img_array, (IMG_SIZE, IMG_SIZE))\n",
    "#                 Training.append([new_array, class_num])\n",
    "#             except Exception as e:\n",
    "#                 pass\n",
    "# training_data() \n",
    "    "
   ]
  },
  {
   "cell_type": "markdown",
   "id": "995a91f8-3b1b-47cb-b0e7-714ef0eb6657",
   "metadata": {},
   "source": [
    "## Training and Validation over than 70%"
   ]
  },
  {
   "cell_type": "code",
   "execution_count": 160,
   "id": "d41ba748-08b0-4697-acf0-e65354aa1c75",
   "metadata": {},
   "outputs": [],
   "source": [
    "from sklearn.model_selection import train_test_split"
   ]
  },
  {
   "cell_type": "code",
   "execution_count": null,
   "id": "6047aebb-30e3-41fa-bb20-81e5c4f7b006",
   "metadata": {},
   "outputs": [],
   "source": []
  },
  {
   "cell_type": "code",
   "execution_count": 161,
   "id": "803e27d2-bf2d-4dbb-9a8b-b84100ca02ba",
   "metadata": {},
   "outputs": [],
   "source": [
    "import random\n",
    "\n",
    "random.shuffle(Training)"
   ]
  },
  {
   "cell_type": "code",
   "execution_count": 162,
   "id": "44719f6a-4b49-4cfa-8f83-844996b4eaa0",
   "metadata": {},
   "outputs": [
    {
     "name": "stdout",
     "output_type": "stream",
     "text": [
      "0\n",
      "1\n",
      "1\n",
      "1\n",
      "0\n",
      "0\n",
      "1\n",
      "0\n",
      "0\n",
      "1\n",
      "1\n",
      "1\n",
      "1\n",
      "1\n",
      "0\n",
      "0\n",
      "0\n",
      "1\n",
      "0\n",
      "0\n",
      "0\n",
      "1\n"
     ]
    }
   ],
   "source": [
    "for sample in Training:\n",
    "    print(sample[1])"
   ]
  },
  {
   "cell_type": "code",
   "execution_count": 163,
   "id": "9dd5e795-a39e-437b-9670-9c00b2a6fc96",
   "metadata": {},
   "outputs": [],
   "source": [
    "X = []\n",
    "Y = []\n",
    "\n",
    "for features, label in Training:\n",
    "    X.append(features)\n",
    "    Y.append(label)\n",
    "    \n",
    "x = np.array(X).reshape(-1, IMG_SIZE, IMG_SIZE, 1)"
   ]
  },
  {
   "cell_type": "code",
   "execution_count": null,
   "id": "fc2ca43a-3a4c-4f9b-87c1-eb961409b69d",
   "metadata": {},
   "outputs": [],
   "source": []
  },
  {
   "cell_type": "markdown",
   "id": "73fea97f-af2c-4899-b2b2-7b334c034fc6",
   "metadata": {},
   "source": [
    "## Sequential Model"
   ]
  },
  {
   "cell_type": "markdown",
   "id": "f2865382-66eb-4f81-a07e-2794656f68e5",
   "metadata": {},
   "source": [
    "# Rekomendasi\n",
    "### - Deep Learning sederhana\n",
    "### - Gunakan dataset yang sudah bersih dari library sklearn, tensorflow, atau MNIST dataset"
   ]
  },
  {
   "cell_type": "code",
   "execution_count": null,
   "id": "579dd474-6bb2-412b-ae0a-f806439c2239",
   "metadata": {},
   "outputs": [],
   "source": []
  }
 ],
 "metadata": {
  "kernelspec": {
   "display_name": "Python 3 (ipykernel)",
   "language": "python",
   "name": "python3"
  },
  "language_info": {
   "codemirror_mode": {
    "name": "ipython",
    "version": 3
   },
   "file_extension": ".py",
   "mimetype": "text/x-python",
   "name": "python",
   "nbconvert_exporter": "python",
   "pygments_lexer": "ipython3",
   "version": "3.10.7"
  }
 },
 "nbformat": 4,
 "nbformat_minor": 5
}
