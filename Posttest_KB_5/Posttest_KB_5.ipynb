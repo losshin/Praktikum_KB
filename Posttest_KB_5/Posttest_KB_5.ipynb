{
 "cells": [
  {
   "cell_type": "code",
   "execution_count": 50,
   "id": "ac6d2393-ac6e-4106-93ae-2a589466816f",
   "metadata": {},
   "outputs": [],
   "source": [
    "import numpy as py\n",
    "import pandas as pd\n",
    "import seaborn as sns\n",
    "import matplotlib.pyplot as plt\n",
    "\n",
    "\n",
    "from sklearn.model_selection import train_test_split\n",
    "from sklearn.neighbors import KNeighborsClassifier\n",
    "from sklearn.tree import DecisionTreeClassifier"
   ]
  },
  {
   "cell_type": "code",
   "execution_count": 51,
   "id": "a2889bf5-a816-41ed-9e41-f089c6881da3",
   "metadata": {},
   "outputs": [],
   "source": [
    "df = pd.read_csv('AirlinePassengerSatisfaction-test.csv')\n",
    "# df = sns.load_dataset('AirlinePassengerSatisfaction-test')"
   ]
  },
  {
   "cell_type": "code",
   "execution_count": 75,
   "id": "ee54fd12-ae9e-4fbc-92c3-d74efd5b4972",
   "metadata": {},
   "outputs": [
    {
     "data": {
      "text/plain": [
       "array(['Loyal Customer', 'disloyal Customer'], dtype=object)"
      ]
     },
     "execution_count": 75,
     "metadata": {},
     "output_type": "execute_result"
    }
   ],
   "source": [
    "df['Customer Type'].unique()"
   ]
  },
  {
   "cell_type": "code",
   "execution_count": 54,
   "id": "ec01fd1a-f2c3-4fd1-9505-fa0bf6c090fc",
   "metadata": {},
   "outputs": [],
   "source": [
    "X = df[['Age','Flight Distance','Inflight wifi service']]\n",
    "Y = df['Gender']"
   ]
  },
  {
   "cell_type": "code",
   "execution_count": 55,
   "id": "80907970-49c5-4b91-b232-5f45408cede3",
   "metadata": {},
   "outputs": [],
   "source": [
    "X_train, X_test, Y_train, Y_test = train_test_split(X, Y, test_size=0.2, random_state=0)"
   ]
  },
  {
   "cell_type": "markdown",
   "id": "bb5ac34e-3686-400a-a8a8-38d755378a29",
   "metadata": {},
   "source": [
    "# K-Nearest Neighbor"
   ]
  },
  {
   "cell_type": "code",
   "execution_count": 56,
   "id": "7c2a61d1-f04e-4533-8e7e-3ebe8af909ee",
   "metadata": {},
   "outputs": [],
   "source": [
    "modelKNN = KNeighborsClassifier(n_neighbors = 5)"
   ]
  },
  {
   "cell_type": "code",
   "execution_count": 57,
   "id": "cbfcfc34-de9c-43d9-a173-84242a465322",
   "metadata": {},
   "outputs": [
    {
     "data": {
      "text/html": [
       "<style>#sk-container-id-2 {color: black;background-color: white;}#sk-container-id-2 pre{padding: 0;}#sk-container-id-2 div.sk-toggleable {background-color: white;}#sk-container-id-2 label.sk-toggleable__label {cursor: pointer;display: block;width: 100%;margin-bottom: 0;padding: 0.3em;box-sizing: border-box;text-align: center;}#sk-container-id-2 label.sk-toggleable__label-arrow:before {content: \"▸\";float: left;margin-right: 0.25em;color: #696969;}#sk-container-id-2 label.sk-toggleable__label-arrow:hover:before {color: black;}#sk-container-id-2 div.sk-estimator:hover label.sk-toggleable__label-arrow:before {color: black;}#sk-container-id-2 div.sk-toggleable__content {max-height: 0;max-width: 0;overflow: hidden;text-align: left;background-color: #f0f8ff;}#sk-container-id-2 div.sk-toggleable__content pre {margin: 0.2em;color: black;border-radius: 0.25em;background-color: #f0f8ff;}#sk-container-id-2 input.sk-toggleable__control:checked~div.sk-toggleable__content {max-height: 200px;max-width: 100%;overflow: auto;}#sk-container-id-2 input.sk-toggleable__control:checked~label.sk-toggleable__label-arrow:before {content: \"▾\";}#sk-container-id-2 div.sk-estimator input.sk-toggleable__control:checked~label.sk-toggleable__label {background-color: #d4ebff;}#sk-container-id-2 div.sk-label input.sk-toggleable__control:checked~label.sk-toggleable__label {background-color: #d4ebff;}#sk-container-id-2 input.sk-hidden--visually {border: 0;clip: rect(1px 1px 1px 1px);clip: rect(1px, 1px, 1px, 1px);height: 1px;margin: -1px;overflow: hidden;padding: 0;position: absolute;width: 1px;}#sk-container-id-2 div.sk-estimator {font-family: monospace;background-color: #f0f8ff;border: 1px dotted black;border-radius: 0.25em;box-sizing: border-box;margin-bottom: 0.5em;}#sk-container-id-2 div.sk-estimator:hover {background-color: #d4ebff;}#sk-container-id-2 div.sk-parallel-item::after {content: \"\";width: 100%;border-bottom: 1px solid gray;flex-grow: 1;}#sk-container-id-2 div.sk-label:hover label.sk-toggleable__label {background-color: #d4ebff;}#sk-container-id-2 div.sk-serial::before {content: \"\";position: absolute;border-left: 1px solid gray;box-sizing: border-box;top: 0;bottom: 0;left: 50%;z-index: 0;}#sk-container-id-2 div.sk-serial {display: flex;flex-direction: column;align-items: center;background-color: white;padding-right: 0.2em;padding-left: 0.2em;position: relative;}#sk-container-id-2 div.sk-item {position: relative;z-index: 1;}#sk-container-id-2 div.sk-parallel {display: flex;align-items: stretch;justify-content: center;background-color: white;position: relative;}#sk-container-id-2 div.sk-item::before, #sk-container-id-2 div.sk-parallel-item::before {content: \"\";position: absolute;border-left: 1px solid gray;box-sizing: border-box;top: 0;bottom: 0;left: 50%;z-index: -1;}#sk-container-id-2 div.sk-parallel-item {display: flex;flex-direction: column;z-index: 1;position: relative;background-color: white;}#sk-container-id-2 div.sk-parallel-item:first-child::after {align-self: flex-end;width: 50%;}#sk-container-id-2 div.sk-parallel-item:last-child::after {align-self: flex-start;width: 50%;}#sk-container-id-2 div.sk-parallel-item:only-child::after {width: 0;}#sk-container-id-2 div.sk-dashed-wrapped {border: 1px dashed gray;margin: 0 0.4em 0.5em 0.4em;box-sizing: border-box;padding-bottom: 0.4em;background-color: white;}#sk-container-id-2 div.sk-label label {font-family: monospace;font-weight: bold;display: inline-block;line-height: 1.2em;}#sk-container-id-2 div.sk-label-container {text-align: center;}#sk-container-id-2 div.sk-container {/* jupyter's `normalize.less` sets `[hidden] { display: none; }` but bootstrap.min.css set `[hidden] { display: none !important; }` so we also need the `!important` here to be able to override the default hidden behavior on the sphinx rendered scikit-learn.org. See: https://github.com/scikit-learn/scikit-learn/issues/21755 */display: inline-block !important;position: relative;}#sk-container-id-2 div.sk-text-repr-fallback {display: none;}</style><div id=\"sk-container-id-2\" class=\"sk-top-container\"><div class=\"sk-text-repr-fallback\"><pre>KNeighborsClassifier()</pre><b>In a Jupyter environment, please rerun this cell to show the HTML representation or trust the notebook. <br />On GitHub, the HTML representation is unable to render, please try loading this page with nbviewer.org.</b></div><div class=\"sk-container\" hidden><div class=\"sk-item\"><div class=\"sk-estimator sk-toggleable\"><input class=\"sk-toggleable__control sk-hidden--visually\" id=\"sk-estimator-id-2\" type=\"checkbox\" checked><label for=\"sk-estimator-id-2\" class=\"sk-toggleable__label sk-toggleable__label-arrow\">KNeighborsClassifier</label><div class=\"sk-toggleable__content\"><pre>KNeighborsClassifier()</pre></div></div></div></div></div>"
      ],
      "text/plain": [
       "KNeighborsClassifier()"
      ]
     },
     "execution_count": 57,
     "metadata": {},
     "output_type": "execute_result"
    }
   ],
   "source": [
    "modelKNN.fit(X_train, Y_train)"
   ]
  },
  {
   "cell_type": "markdown",
   "id": "9e195ecf-d0ac-4b03-a28f-dd9eed0f5cc4",
   "metadata": {},
   "source": [
    "# Akurasi Training Set Menggunakan KNN"
   ]
  },
  {
   "cell_type": "code",
   "execution_count": 58,
   "id": "7bcb15d7-4f42-44b6-8e2c-c09e822babf0",
   "metadata": {},
   "outputs": [
    {
     "data": {
      "text/plain": [
       "0.687487969201155"
      ]
     },
     "execution_count": 58,
     "metadata": {},
     "output_type": "execute_result"
    }
   ],
   "source": [
    "modelKNN.score(X_train, Y_train)"
   ]
  },
  {
   "cell_type": "markdown",
   "id": "7444ac3c-c1a5-4b37-9734-d071214ba88a",
   "metadata": {},
   "source": [
    "# Akurasi Testing Set Menggunakan KNN"
   ]
  },
  {
   "cell_type": "code",
   "execution_count": 59,
   "id": "21f728c1-738a-4369-92c7-1d761ac25082",
   "metadata": {},
   "outputs": [
    {
     "data": {
      "text/plain": [
       "0.49210931485758275"
      ]
     },
     "execution_count": 59,
     "metadata": {},
     "output_type": "execute_result"
    }
   ],
   "source": [
    "modelKNN.score(X_test, Y_test)"
   ]
  },
  {
   "cell_type": "code",
   "execution_count": 60,
   "id": "52466d6f-92c8-4e75-a6d7-8f1d32e6789b",
   "metadata": {},
   "outputs": [
    {
     "name": "stderr",
     "output_type": "stream",
     "text": [
      "C:\\Users\\ASUS\\AppData\\Local\\Programs\\Python\\Python310\\lib\\site-packages\\sklearn\\base.py:450: UserWarning: X does not have valid feature names, but KNeighborsClassifier was fitted with feature names\n",
      "  warnings.warn(\n"
     ]
    },
    {
     "data": {
      "text/plain": [
       "array(['Female'], dtype=object)"
      ]
     },
     "execution_count": 60,
     "metadata": {},
     "output_type": "execute_result"
    }
   ],
   "source": [
    "prediction = [[40, 2000, 1]]\n",
    "modelKNN.predict(prediction)"
   ]
  },
  {
   "cell_type": "markdown",
   "id": "e7a26b7b-c689-4709-9d10-a5c1e896ac81",
   "metadata": {},
   "source": [
    "# SVM"
   ]
  },
  {
   "cell_type": "code",
   "execution_count": 61,
   "id": "74c7099a-e2a8-46cb-862b-e5fcdf7d357e",
   "metadata": {},
   "outputs": [],
   "source": [
    "from sklearn.svm import SVC\n",
    "from sklearn.metrics import accuracy_score"
   ]
  },
  {
   "cell_type": "code",
   "execution_count": 62,
   "id": "687470f0-3ff3-4d67-8386-ccea48b81d36",
   "metadata": {},
   "outputs": [],
   "source": [
    "svc = SVC().fit(X_train, Y_train)\n",
    "svc_predict = svc.predict(X_test)"
   ]
  },
  {
   "cell_type": "code",
   "execution_count": 63,
   "id": "de27e1b5-99b7-4313-b76c-bf0295a30b59",
   "metadata": {},
   "outputs": [
    {
     "data": {
      "text/plain": [
       "0.5026943802925328"
      ]
     },
     "execution_count": 63,
     "metadata": {},
     "output_type": "execute_result"
    }
   ],
   "source": [
    "accuracy_score(Y_test, svc_predict)"
   ]
  },
  {
   "cell_type": "markdown",
   "id": "7dbaefd5-751c-4a30-a038-ff54c79b5687",
   "metadata": {},
   "source": [
    "# Visualisasi Confusion Matrix KNN"
   ]
  },
  {
   "cell_type": "code",
   "execution_count": 64,
   "id": "fa97d40f-625c-4916-a459-5fb04028f143",
   "metadata": {},
   "outputs": [],
   "source": [
    "from sklearn.metrics import confusion_matrix, ConfusionMatrixDisplay"
   ]
  },
  {
   "cell_type": "code",
   "execution_count": 65,
   "id": "a3b27c77-e5ad-44de-82f2-bc947fa0d508",
   "metadata": {},
   "outputs": [],
   "source": [
    "cm_predict = modelKNN.predict(X_test)"
   ]
  },
  {
   "cell_type": "code",
   "execution_count": 66,
   "id": "cc40c3d0-6829-4dc5-8c54-5a1a37362373",
   "metadata": {},
   "outputs": [
    {
     "data": {
      "text/plain": [
       "array([[1356, 1256],\n",
       "       [1383, 1201]], dtype=int64)"
      ]
     },
     "execution_count": 66,
     "metadata": {},
     "output_type": "execute_result"
    }
   ],
   "source": [
    "cm = confusion_matrix(Y_test, cm_predict)\n",
    "cm"
   ]
  },
  {
   "cell_type": "code",
   "execution_count": 67,
   "id": "29be2b29-9afd-479d-9a77-5c5b4282b223",
   "metadata": {},
   "outputs": [
    {
     "data": {
      "image/png": "[encoded data removed]",
      "text/plain": [
       "<Figure size 640x480 with 2 Axes>"
      ]
     },
     "metadata": {},
     "output_type": "display_data"
    }
   ],
   "source": [
    "disp_cm = ConfusionMatrixDisplay(\n",
    "    confusion_matrix = cm,\n",
    "    display_labels = modelKNN.classes_\n",
    ")\n",
    "disp_cm.plot()\n",
    "plt.grid(False)\n",
    "plt.show()"
   ]
  },
  {
   "cell_type": "markdown",
   "id": "f0faea92-02d0-4327-ae6a-745c5bf795dc",
   "metadata": {},
   "source": [
    "# Visualisasi Regression KNN"
   ]
  },
  {
   "cell_type": "code",
   "execution_count": 68,
   "id": "c79437ac-4921-4993-9a3c-2778a6c01a4f",
   "metadata": {},
   "outputs": [],
   "source": [
    "from sklearn.linear_model import LinearRegression\n",
    "from sklearn.metrics import mean_squared_error, mean_absolute_error"
   ]
  },
  {
   "cell_type": "code",
   "execution_count": 69,
   "id": "e1d8148c-d3d1-4d18-850e-4abe07087e98",
   "metadata": {},
   "outputs": [],
   "source": [
    "x = df[['Flight Distance']] # PREDICTOR\n",
    "y = df[['Departure Delay in Minutes']] # TARGET"
   ]
  },
  {
   "cell_type": "code",
   "execution_count": 70,
   "id": "788d2b57-d425-46f8-a1f2-01dbad96a49a",
   "metadata": {},
   "outputs": [],
   "source": [
    "x_train, x_test, y_train, y_test = train_test_split(x, y, test_size=0.2, random_state=0)"
   ]
  },
  {
   "cell_type": "code",
   "execution_count": 71,
   "id": "51083726-66de-4916-8c33-9591eb6906cd",
   "metadata": {},
   "outputs": [],
   "source": [
    "modelLR = LinearRegression().fit(x_train, y_train)\n",
    "LR_predict = modelLR.predict(x_test)"
   ]
  },
  {
   "cell_type": "code",
   "execution_count": 72,
   "id": "25815647-d93b-486e-9383-7f1e14196cd3",
   "metadata": {},
   "outputs": [],
   "source": [
    "mse = mean_squared_error(y_test, LR_predict)\n",
    "rmse = mean_squared_error(y_test, LR_predict, squared=False)\n",
    "r_2 = modelLR.score(x_test, y_test)\n",
    "mae = mean_absolute_error(y_test, LR_predict)"
   ]
  },
  {
   "cell_type": "code",
   "execution_count": 76,
   "id": "e2841756-ff37-46fd-b8c9-79a527482a94",
   "metadata": {},
   "outputs": [
    {
     "data": {
      "image/png": "[encoded data removed]",
      "text/plain": [
       "<Figure size 640x480 with 1 Axes>"
      ]
     },
     "metadata": {},
     "output_type": "display_data"
    }
   ],
   "source": [
    "plt.scatter(x_test, y_test, color=\"blue\", label=\"Nilai Aktual\")\n",
    "plt.plot(x_test, LR_predict, color=\"black\", label=\"Nilai Prediksi\")\n",
    "plt.xlabel(\"Flight Distance\")\n",
    "plt.ylabel(\"Departure Delay in Minutes\")\n",
    "plt.legend()\n",
    "plt.show()"
   ]
  },
  {
   "cell_type": "code",
   "execution_count": null,
   "id": "f4081a9e-aab3-44ff-8ac7-264987e697e4",
   "metadata": {},
   "outputs": [],
   "source": []
  }
 ],
 "metadata": {
  "kernelspec": {
   "display_name": "Python 3 (ipykernel)",
   "language": "python",
   "name": "python3"
  },
  "language_info": {
   "codemirror_mode": {
    "name": "ipython",
    "version": 3
   },
   "file_extension": ".py",
   "mimetype": "text/x-python",
   "name": "python",
   "nbconvert_exporter": "python",
   "pygments_lexer": "ipython3",
   "version": "3.10.7"
  }
 },
 "nbformat": 4,
 "nbformat_minor": 5
}
