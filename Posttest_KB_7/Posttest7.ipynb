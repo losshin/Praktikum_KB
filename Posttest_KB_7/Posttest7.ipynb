{
 "cells": [
  {
   "cell_type": "markdown",
   "id": "b474281f-664d-42be-a2ac-ce03979acba0",
   "metadata": {},
   "source": [
    "# Tensor Flow"
   ]
  },
  {
   "cell_type": "code",
   "execution_count": 148,
   "id": "63754d4b-2d9e-4965-85f0-c0ddbd83238d",
   "metadata": {},
   "outputs": [],
   "source": [
    "import tensorflow as tf"
   ]
  },
  {
   "cell_type": "markdown",
   "id": "480a23a6-b9a3-45e0-a768-80981df85809",
   "metadata": {
    "tags": []
   },
   "source": [
    "## A. Membuat sebuah tensor dengan shape(5,5) dengan nilai random"
   ]
  },
  {
   "cell_type": "code",
   "execution_count": 149,
   "id": "b59b9695-816c-46af-a32b-23c4b4d42d1e",
   "metadata": {},
   "outputs": [
    {
     "data": {
      "text/plain": [
       "array([[-0.10106637,  0.46920854, -1.0703483 ,  0.86057067, -0.79130745],\n",
       "       [ 0.09045956,  0.94828707,  0.47215232,  2.038057  , -0.45528835],\n",
       "       [-0.47464088, -0.0629163 ,  0.397867  ,  0.22886398, -0.03072531],\n",
       "       [-0.28157505,  0.7958308 ,  0.71336466, -0.28134418,  0.9798792 ],\n",
       "       [ 1.0570775 , -0.4569331 , -0.3012637 ,  1.034456  , -1.0373529 ]],\n",
       "      dtype=float32)"
      ]
     },
     "execution_count": 149,
     "metadata": {},
     "output_type": "execute_result"
    }
   ],
   "source": [
    "# membuat variable random_tensor\n",
    "random_tensor = tf.random.normal([5,5], seed = 1)\n",
    "\n",
    "# mengecek nilai constant\n",
    "random_tensor.numpy()"
   ]
  },
  {
   "cell_type": "markdown",
   "id": "9bc6fd70-30d7-460d-9127-934c129c17e8",
   "metadata": {
    "tags": []
   },
   "source": [
    "## B. Membuat tensor dengan shape(5,5) dari sebuah list dengan nilai bilangan prima"
   ]
  },
  {
   "cell_type": "code",
   "execution_count": 150,
   "id": "19b265f0-0a80-4d1e-8375-8bd1676ddae8",
   "metadata": {},
   "outputs": [
    {
     "data": {
      "text/plain": [
       "array([[  2.,   3.,   5.,   7.,  11.],\n",
       "       [ 13.,  17.,  19.,  23.,  29.],\n",
       "       [ 31.,  37.,  41.,  43.,  47.],\n",
       "       [ 53.,  59.,  61.,  71.,  73.],\n",
       "       [ 79.,  83.,  89.,  97., 101.]], dtype=float32)"
      ]
     },
     "execution_count": 150,
     "metadata": {},
     "output_type": "execute_result"
    }
   ],
   "source": [
    "# membuat variable prime_tensor\n",
    "prime_tensor = tf.constant([[2, 3, 5, 7, 11], [13, 17, 19, 23, 29], [31, 37, 41, 43, 47], [53, 59, 61, 71, 73], [79, 83, 89, 97, 101]], shape=[5,5], dtype=tf.float32)\n",
    "\n",
    "# mengecek nilai constant\n",
    "prime_tensor.numpy()"
   ]
  },
  {
   "cell_type": "markdown",
   "id": "8f713484-899b-4819-8e21-d452d12e4177",
   "metadata": {},
   "source": [
    "## C. Menampilkan dimensi dari kedua variable diatas"
   ]
  },
  {
   "cell_type": "code",
   "execution_count": 151,
   "id": "917fca4b-d048-4140-8fe7-6806873eeb82",
   "metadata": {},
   "outputs": [
    {
     "name": "stdout",
     "output_type": "stream",
     "text": [
      "(5, 5)\n",
      "(5, 5)\n",
      "tf.Tensor([5 5], shape=(2,), dtype=int32)\n",
      "\n",
      "(5, 5)\n",
      "(5, 5)\n",
      "tf.Tensor([5 5], shape=(2,), dtype=int32)\n"
     ]
    }
   ],
   "source": [
    "# Dimensi variable random_shape\n",
    "print(random_tensor.shape)\n",
    "print(random_tensor.get_shape())\n",
    "print(tf.shape(random_tensor))\n",
    "\n",
    "print()\n",
    "\n",
    "# Dimensi variable prime_tensor\n",
    "print(prime_tensor.shape)\n",
    "print(prime_tensor.get_shape())\n",
    "print(tf.shape(prime_tensor))"
   ]
  },
  {
   "cell_type": "markdown",
   "id": "e5e0ba49-ab80-4fbb-8b99-4186e64db657",
   "metadata": {},
   "source": [
    "## D. Menampilkan hasil perhitungan aritmetika kedua variable (5 operasi)"
   ]
  },
  {
   "cell_type": "code",
   "execution_count": 152,
   "id": "21ce9c23-730a-4dae-a0ad-5e3f813601b0",
   "metadata": {},
   "outputs": [],
   "source": [
    "# Memindahkan variable ke variable yang lebih mudah dalam pemanggilannya\n",
    "a = random_tensor\n",
    "b = prime_tensor"
   ]
  },
  {
   "cell_type": "markdown",
   "id": "161480b1-0843-4521-8f72-c696d325d0de",
   "metadata": {},
   "source": [
    "### Penjumlahan"
   ]
  },
  {
   "cell_type": "code",
   "execution_count": 153,
   "id": "be437e64-8ca8-4b7a-acd4-2fd4271535ae",
   "metadata": {},
   "outputs": [
    {
     "name": "stdout",
     "output_type": "stream",
     "text": [
      "tf.Tensor(\n",
      "[[ 1.8989336  3.4692085  3.9296517  7.860571  10.208693 ]\n",
      " [13.09046   17.948288  19.472153  25.038057  28.544712 ]\n",
      " [30.525358  36.937084  41.397865  43.228863  46.969276 ]\n",
      " [52.718426  59.79583   61.713364  70.71866   73.97988  ]\n",
      " [80.057076  82.54307   88.69874   98.034454  99.96265  ]], shape=(5, 5), dtype=float32)\n"
     ]
    }
   ],
   "source": [
    "print(tf.add(a, b))"
   ]
  },
  {
   "cell_type": "markdown",
   "id": "9997ee1a-8821-4522-a7a0-28d22e475c27",
   "metadata": {},
   "source": [
    "### Pengurangan\n"
   ]
  },
  {
   "cell_type": "code",
   "execution_count": 154,
   "id": "dabe2dc4-9d53-4e7e-9cbe-20a92a76a6bf",
   "metadata": {},
   "outputs": [
    {
     "name": "stdout",
     "output_type": "stream",
     "text": [
      "tf.Tensor(\n",
      "[[  -2.1010664   -2.5307915   -6.0703483   -6.139429   -11.791307 ]\n",
      " [ -12.90954    -16.051712   -18.527847   -20.961943   -29.455288 ]\n",
      " [ -31.474642   -37.062916   -40.602135   -42.771137   -47.030724 ]\n",
      " [ -53.281574   -58.20417    -60.286636   -71.28134    -72.02012  ]\n",
      " [ -77.942924   -83.45693    -89.30126    -95.965546  -102.03735  ]], shape=(5, 5), dtype=float32)\n"
     ]
    }
   ],
   "source": [
    "print(tf.subtract(a, b))"
   ]
  },
  {
   "cell_type": "markdown",
   "id": "c316ec11-5a94-485f-b02c-d121021e2265",
   "metadata": {},
   "source": [
    "### Pembagian"
   ]
  },
  {
   "cell_type": "code",
   "execution_count": 155,
   "id": "562774ec-0403-453c-b00b-9386c49bedc6",
   "metadata": {},
   "outputs": [
    {
     "name": "stdout",
     "output_type": "stream",
     "text": [
      "tf.Tensor(\n",
      "[[-0.05053319  0.15640284 -0.21406965  0.12293867 -0.07193704]\n",
      " [ 0.00695843  0.05578159  0.02485012  0.08861118 -0.0156996 ]\n",
      " [-0.015311   -0.00170044  0.00970407  0.00532242 -0.00065373]\n",
      " [-0.00531274  0.01348866  0.0116945  -0.00396259  0.013423  ]\n",
      " [ 0.01338073 -0.00550522 -0.00338499  0.01066449 -0.01027082]], shape=(5, 5), dtype=float32)\n"
     ]
    }
   ],
   "source": [
    "print(tf.divide(a, b))"
   ]
  },
  {
   "cell_type": "markdown",
   "id": "ddb3ec53-c9b5-4afd-856e-6be09c792d8a",
   "metadata": {},
   "source": [
    "### Perkalian"
   ]
  },
  {
   "cell_type": "code",
   "execution_count": 156,
   "id": "8016f1dc-c539-4f39-adbf-822a0036d685",
   "metadata": {},
   "outputs": [
    {
     "name": "stdout",
     "output_type": "stream",
     "text": [
      "tf.Tensor(\n",
      "[[  -0.20213275    1.4076257    -5.3517413     6.0239944    -8.704382  ]\n",
      " [   1.1759742    16.12088       8.970894     46.875313    -13.203362  ]\n",
      " [ -14.713867     -2.327903     16.312548      9.841151     -1.4440894 ]\n",
      " [ -14.923478     46.954018     43.515244    -19.975437     71.53118   ]\n",
      " [  83.509125    -37.92545     -26.812468    100.34223    -104.772644  ]], shape=(5, 5), dtype=float32)\n"
     ]
    }
   ],
   "source": [
    "print(tf.multiply(a, b))"
   ]
  },
  {
   "cell_type": "markdown",
   "id": "1d7f9b48-6cb6-4acd-8090-73f1e5c1177a",
   "metadata": {},
   "source": [
    "### pangkat"
   ]
  },
  {
   "cell_type": "code",
   "execution_count": 157,
   "id": "67d44937-6a3a-4aa9-ac30-022debaf65b6",
   "metadata": {},
   "outputs": [
    {
     "name": "stdout",
     "output_type": "stream",
     "text": [
      "tf.Tensor(\n",
      "[[ 1.0214412e-02  1.0329938e-01 -1.4048357e+00  3.4954715e-01\n",
      "  -7.6172426e-02]\n",
      " [ 2.7158629e-14  4.0548715e-01  6.4203761e-07  1.2941241e+07\n",
      "  -1.2311462e-10]\n",
      " [-9.2751140e-11 -0.0000000e+00  3.8837784e-17  2.8962132e-28\n",
      "  -0.0000000e+00]\n",
      " [-6.7373844e-30  1.4074189e-06  1.1272158e-09 -0.0000000e+00\n",
      "   2.2677509e-01]\n",
      " [ 8.0249138e+01 -5.8582546e-29 -0.0000000e+00  2.6734177e+01\n",
      "  -4.0605034e+01]], shape=(5, 5), dtype=float32)\n"
     ]
    }
   ],
   "source": [
    "print(tf.pow(a, b))"
   ]
  },
  {
   "cell_type": "markdown",
   "id": "de0991a4-71fd-4a64-92b2-7f8596eabf09",
   "metadata": {},
   "source": [
    "## E. Menampilkan nilai maksimal dan minimal dari variable random_tensor"
   ]
  },
  {
   "cell_type": "code",
   "execution_count": 158,
   "id": "71a520f4-ad7b-4a14-bbdd-78a3a7857cc0",
   "metadata": {},
   "outputs": [
    {
     "name": "stdout",
     "output_type": "stream",
     "text": [
      "Nilai maksimum (kolom) : [4 1 3 1 3]\n",
      "Nilai minimum (baris) : [2 4 0 0 4]\n"
     ]
    }
   ],
   "source": [
    "# Membuat variable baru untuk mengindikasikan max dan min\n",
    "tf_max = tf.argmax(random_tensor, axis=0)\n",
    "tf_min = tf.argmin(random_tensor, axis=1)\n",
    "\n",
    "# Menampilkan Nilai Maksimum kolom random_tensor\n",
    "print(\"Nilai maksimum (kolom) :\", tf_max.numpy())\n",
    " \n",
    "# Menampilkan Nilai Minimum baris random_tensor\n",
    "print(\"Nilai minimum (baris) :\", tf_min.numpy())"
   ]
  },
  {
   "cell_type": "markdown",
   "id": "12ca927d-e046-4052-8548-ac94b09b4090",
   "metadata": {},
   "source": [
    "## F. Menampilkan hasil dari penggabungan variable random_tensor dengan prime_tensor (concatenation)"
   ]
  },
  {
   "cell_type": "code",
   "execution_count": 159,
   "id": "db01d796-1509-45d5-9398-e86195606b2a",
   "metadata": {},
   "outputs": [
    {
     "name": "stdout",
     "output_type": "stream",
     "text": [
      "Hasil penggabungan variable random_tensor dengan prime_tensor : (10, 5)\n"
     ]
    }
   ],
   "source": [
    "concated = tf.concat([random_tensor, prime_tensor], axis=0)\n",
    "print(\"Hasil penggabungan variable random_tensor dengan prime_tensor :\", concated.shape)"
   ]
  },
  {
   "cell_type": "markdown",
   "id": "29fb7e26-3537-40b8-b990-a041ef449f2a",
   "metadata": {},
   "source": [
    "## G. Menampilkan hasil sorting dari kedua variable secara descending"
   ]
  },
  {
   "cell_type": "code",
   "execution_count": 160,
   "id": "02a28f59-7aaf-417f-b3a5-3a6187f0fdf2",
   "metadata": {},
   "outputs": [
    {
     "name": "stdout",
     "output_type": "stream",
     "text": [
      "Hasil pengurutan variable random_tensor(descending) : [[ 0.86057067  0.46920854 -0.10106637 -0.79130745 -1.0703483 ]\n",
      " [ 2.038057    0.94828707  0.47215232  0.09045956 -0.45528835]\n",
      " [ 0.397867    0.22886398 -0.03072531 -0.0629163  -0.47464088]\n",
      " [ 0.9798792   0.7958308   0.71336466 -0.28134418 -0.28157505]\n",
      " [ 1.0570775   1.034456   -0.3012637  -0.4569331  -1.0373529 ]]\n",
      "\n",
      "Hasil pengurutan variable prime_tensor(descending) : [[ 11.   7.   5.   3.   2.]\n",
      " [ 29.  23.  19.  17.  13.]\n",
      " [ 47.  43.  41.  37.  31.]\n",
      " [ 73.  71.  61.  59.  53.]\n",
      " [101.  97.  89.  83.  79.]]\n"
     ]
    }
   ],
   "source": [
    "# Sorting variable random_tensor\n",
    "sortrandom = tf.sort(random_tensor, direction=\"DESCENDING\")\n",
    "print(\"Hasil pengurutan variable random_tensor(descending) :\", sortrandom.numpy())\n",
    "\n",
    "# Sorting variable prime_tensor\n",
    "sortprime = tf.sort(prime_tensor, direction=\"DESCENDING\")\n",
    "print(\"\\nHasil pengurutan variable prime_tensor(descending) :\", sortprime.numpy())"
   ]
  },
  {
   "cell_type": "code",
   "execution_count": null,
   "id": "824a6f47-e891-479f-8fad-6c9549058719",
   "metadata": {},
   "outputs": [],
   "source": []
  }
 ],
 "metadata": {
  "kernelspec": {
   "display_name": "Python 3 (ipykernel)",
   "language": "python",
   "name": "python3"
  },
  "language_info": {
   "codemirror_mode": {
    "name": "ipython",
    "version": 3
   },
   "file_extension": ".py",
   "mimetype": "text/x-python",
   "name": "python",
   "nbconvert_exporter": "python",
   "pygments_lexer": "ipython3",
   "version": "3.10.7"
  }
 },
 "nbformat": 4,
 "nbformat_minor": 5
}
